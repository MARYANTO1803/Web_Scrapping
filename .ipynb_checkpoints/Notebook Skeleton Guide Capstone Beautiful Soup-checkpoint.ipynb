{
 "cells": [
  {
   "cell_type": "markdown",
   "metadata": {},
   "source": [
    "# Capstone Webscrapping using BeautifulSoup\n",
    "\n",
    "This notebook contains guidances & tasks on the data processing for the application\n",
    "\n",
    "## Background\n",
    "\n",
    "(Please insert the background here )\n",
    "\n",
    "## Requesting the Data and Creating a BeautifulSoup\n",
    "\n",
    "Let's begin with requesting the web from the site with `get` method."
   ]
  },
  {
   "cell_type": "code",
   "execution_count": 21,
   "metadata": {
    "ExecuteTime": {
     "end_time": "2020-01-13T05:12:23.275508Z",
     "start_time": "2020-01-13T05:12:20.009898Z"
    }
   },
   "outputs": [],
   "source": [
    "import requests\n",
    "\n",
    "url_get = requests.get('https://www.exchange-rates.org/history/IDR/USD/T')"
   ]
  },
  {
   "cell_type": "markdown",
   "metadata": {},
   "source": [
    "To visualize what exactly you get from the `request.get`, we can use .content so ee what we exactly get, in here i slice it so it won't make our screen full of the html we get from the page. You can delete the slicing if you want to see what we fully get."
   ]
  },
  {
   "cell_type": "code",
   "execution_count": 22,
   "metadata": {
    "ExecuteTime": {
     "end_time": "2020-01-13T05:12:23.290648Z",
     "start_time": "2020-01-13T05:12:23.277650Z"
    }
   },
   "outputs": [
    {
     "data": {
      "text/plain": [
       "b'!DOCTYPE html>\\r\\n<!--[if lt IE 9]>\\r\\n<html class=\"no-js ie8 oldie\" lang=\"en\" xml:lang=\\'en\\'>\\r\\n<![endif]-->\\r\\n<!--[if gt IE 8]><!--><html class=\"no-js\" lang=\"en\" xml:lang=\\'en\\'><!--<![endif]-->\\r\\n<head>\\r\\n<title>Indonesian Rupiah Exchange Rate - US Dollar - Historical Exchange Rates</title>\\r\\n<meta http-equiv=\"X-UA-Compatible\" content=\"IE=edge\">\\r\\n<meta name=\"viewport\" content=\"width=device-width, initial-scale=1, maximum-scale=5\">\\r\\n<meta charset=\"utf-8\" /><meta http-equiv=\"Content-Type\" content=\"text/ht'"
      ]
     },
     "execution_count": 22,
     "metadata": {},
     "output_type": "execute_result"
    }
   ],
   "source": [
    "url_get.content[1:500]"
   ]
  },
  {
   "cell_type": "markdown",
   "metadata": {},
   "source": [
    "As we can see we get a very unstructured and complex html, which actually contains the codes needed to show the webpages on your web browser. But we as human still confused what and where we can use that piece of code, so here where we use the beautifulsoup. Beautiful soup class will result a beautifulsoup object. Beautiful Soup transforms a complex HTML document into a complex tree of Python objects. \n",
    "\n",
    "Let's make Beautiful soup object and feel free to explore the object here."
   ]
  },
  {
   "cell_type": "code",
   "execution_count": 23,
   "metadata": {
    "ExecuteTime": {
     "end_time": "2020-01-13T05:12:23.808122Z",
     "start_time": "2020-01-13T05:12:23.292610Z"
    }
   },
   "outputs": [],
   "source": [
    "from bs4 import BeautifulSoup \n",
    "\n",
    "soup = BeautifulSoup(url_get.content,\"html.parser\")"
   ]
  },
  {
   "cell_type": "markdown",
   "metadata": {},
   "source": [
    "## Finding the right key to scrap the data & Extracting the right information"
   ]
  },
  {
   "cell_type": "markdown",
   "metadata": {},
   "source": [
    "Find the key and put the key into the `.find()` Put all the exploring the right key at this cell. (please change this markdown with your explanation)"
   ]
  },
  {
   "cell_type": "code",
   "execution_count": 24,
   "metadata": {
    "ExecuteTime": {
     "end_time": "2020-01-13T05:12:23.878904Z",
     "start_time": "2020-01-13T05:12:23.854974Z"
    }
   },
   "outputs": [
    {
     "name": "stdout",
     "output_type": "stream",
     "text": [
      "!DOCTYPE html>\n",
      "<!--[if lt IE 9]>\r\n",
      "<html class=\"no-js ie8 oldie\" lang=\"en\" xml:lang='en'>\r\n",
      "<![endif]-->\n",
      "<!--[if gt IE 8]><!-->\n",
      "<html class=\"no-js\" lang=\"en\" xml:lang=\"en\">\n",
      " <!--<![endif]-->\n",
      " <head>\n",
      "  <title>\n",
      "   Indonesian Rupiah Exchange Rate - US Dollar - Historical Exchange Rates\n",
      "  </title>\n",
      "  <meta content=\"IE=edge\" http-equiv=\"X-UA-Compatible\"/>\n",
      "  <meta content=\"width=device-width, initial-scale=1, maximum-scale=5\" name=\"viewport\"/>\n",
      "  <meta charset=\"utf-8\">\n",
      "   <meta content=\"text/html; charse\n"
     ]
    }
   ],
   "source": [
    "table = soup.find('table', attrs={'class' : 'table'})\n",
    "print(soup.prettify()[1:500])"
   ]
  },
  {
   "cell_type": "markdown",
   "metadata": {},
   "source": [
    "Finding row length."
   ]
  },
  {
   "cell_type": "code",
   "execution_count": 81,
   "metadata": {},
   "outputs": [],
   "source": [
    "tr = table.find_all('tr')\n",
    "row_length = len(tr)\n",
    "#tr[:2]"
   ]
  },
  {
   "cell_type": "markdown",
   "metadata": {},
   "source": [
    "Do the scrapping process here (please change this markdown with your explanation)"
   ]
  },
  {
   "cell_type": "code",
   "execution_count": 82,
   "metadata": {
    "ExecuteTime": {
     "end_time": "2020-01-13T05:12:24.008256Z",
     "start_time": "2020-01-13T05:12:23.980358Z"
    }
   },
   "outputs": [
    {
     "data": {
      "text/plain": [
       "[('12/19/2022', '15,567.55000 IDR'),\n",
       " ('12/16/2022', '15,616.05000 IDR'),\n",
       " ('12/15/2022', '15,629.40000 IDR'),\n",
       " ('12/14/2022', '15,543.30000 IDR'),\n",
       " ('12/13/2022', '15,560.20000 IDR'),\n",
       " ('12/12/2022', '15,676.35000 IDR'),\n",
       " ('12/9/2022', '15,603.50000 IDR'),\n",
       " ('12/8/2022', '15,594.15000 IDR'),\n",
       " ('12/7/2022', '15,611.64423 IDR'),\n",
       " ('12/6/2022', '15,624.97500 IDR'),\n",
       " ('12/5/2022', '15,520.35000 IDR'),\n",
       " ('12/2/2022', '15,376.20000 IDR'),\n",
       " ('12/1/2022', '15,389.05000 IDR'),\n",
       " ('11/30/2022', '15,632.95000 IDR'),\n",
       " ('11/29/2022', '15,733.50000 IDR'),\n",
       " ('11/28/2022', '15,742.83672 IDR'),\n",
       " ('11/25/2022', '15,692.83343 IDR'),\n",
       " ('11/24/2022', '15,646.60000 IDR'),\n",
       " ('11/23/2022', '15,626.00000 IDR'),\n",
       " ('11/22/2022', '15,663.68193 IDR'),\n",
       " ('11/21/2022', '15,740.80000 IDR'),\n",
       " ('11/18/2022', '15,641.30000 IDR'),\n",
       " ('11/17/2022', '15,713.60341 IDR'),\n",
       " ('11/16/2022', '15,638.60000 IDR'),\n",
       " ('11/15/2022', '15,556.92221 IDR'),\n",
       " ('11/14/2022', '15,554.40000 IDR'),\n",
       " ('11/11/2022', '15,473.86895 IDR'),\n",
       " ('11/10/2022', '15,519.50906 IDR'),\n",
       " ('11/9/2022', '15,691.50000 IDR'),\n",
       " ('11/8/2022', '15,638.12198 IDR'),\n",
       " ('11/7/2022', '15,685.02606 IDR'),\n",
       " ('11/4/2022', '15,614.50000 IDR'),\n",
       " ('11/3/2022', '15,790.00000 IDR'),\n",
       " ('11/2/2022', '15,684.50000 IDR'),\n",
       " ('11/1/2022', '15,673.90000 IDR'),\n",
       " ('10/31/2022', '15,623.75000 IDR'),\n",
       " ('10/28/2022', '15,557.12089 IDR'),\n",
       " ('10/27/2022', '15,560.25000 IDR'),\n",
       " ('10/26/2022', '15,502.75000 IDR'),\n",
       " ('10/25/2022', '15,533.00000 IDR'),\n",
       " ('10/24/2022', '15,597.90000 IDR'),\n",
       " ('10/21/2022', '15,537.20000 IDR'),\n",
       " ('10/20/2022', '15,562.05000 IDR'),\n",
       " ('10/19/2022', '15,586.50000 IDR'),\n",
       " ('10/18/2022', '15,474.20000 IDR'),\n",
       " ('10/17/2022', '15,441.45000 IDR'),\n",
       " ('10/14/2022', '15,472.20000 IDR'),\n",
       " ('10/13/2022', '15,371.90000 IDR'),\n",
       " ('10/12/2022', '15,318.65000 IDR'),\n",
       " ('10/11/2022', '15,353.90000 IDR'),\n",
       " ('10/10/2022', '15,320.70000 IDR'),\n",
       " ('10/7/2022', '15,290.70000 IDR'),\n",
       " ('10/6/2022', '15,230.80000 IDR'),\n",
       " ('10/5/2022', '15,206.65000 IDR'),\n",
       " ('10/4/2022', '15,174.15000 IDR'),\n",
       " ('10/3/2022', '15,267.80000 IDR'),\n",
       " ('9/30/2022', '15,303.70000 IDR'),\n",
       " ('9/29/2022', '15,187.20000 IDR'),\n",
       " ('9/28/2022', '15,175.25000 IDR'),\n",
       " ('9/27/2022', '15,171.70000 IDR'),\n",
       " ('9/26/2022', '15,190.70000 IDR'),\n",
       " ('9/23/2022', '15,112.36165 IDR'),\n",
       " ('9/22/2022', '15,026.65000 IDR'),\n",
       " ('9/21/2022', '15,039.10000 IDR'),\n",
       " ('9/20/2022', '15,017.60000 IDR'),\n",
       " ('9/19/2022', '14,985.85000 IDR'),\n",
       " ('9/16/2022', '14,999.20000 IDR'),\n",
       " ('9/15/2022', '14,942.60000 IDR'),\n",
       " ('9/14/2022', '14,910.50000 IDR'),\n",
       " ('9/13/2022', '14,967.30000 IDR'),\n",
       " ('9/12/2022', '14,860.60000 IDR'),\n",
       " ('9/9/2022', '14,836.30000 IDR'),\n",
       " ('9/8/2022', '14,894.20000 IDR'),\n",
       " ('9/7/2022', '14,908.30000 IDR'),\n",
       " ('9/6/2022', '14,900.50000 IDR'),\n",
       " ('9/5/2022', '14,889.50000 IDR'),\n",
       " ('9/2/2022', '14,892.30000 IDR'),\n",
       " ('9/1/2022', '14,902.15000 IDR'),\n",
       " ('8/31/2022', '14,848.70000 IDR'),\n",
       " ('8/30/2022', '14,851.00000 IDR'),\n",
       " ('8/29/2022', '14,886.25000 IDR'),\n",
       " ('8/26/2022', '14,829.95000 IDR'),\n",
       " ('8/25/2022', '14,774.80000 IDR'),\n",
       " ('8/24/2022', '14,836.40000 IDR'),\n",
       " ('8/23/2022', '14,851.40000 IDR'),\n",
       " ('8/22/2022', '14,910.85000 IDR'),\n",
       " ('8/19/2022', '14,875.40000 IDR'),\n",
       " ('8/18/2022', '14,849.35000 IDR'),\n",
       " ('8/17/2022', '14,770.20000 IDR'),\n",
       " ('8/16/2022', '14,749.60000 IDR'),\n",
       " ('8/15/2022', '14,776.45000 IDR'),\n",
       " ('8/12/2022', '14,661.07616 IDR'),\n",
       " ('8/11/2022', '14,732.30000 IDR'),\n",
       " ('8/10/2022', '14,766.50000 IDR'),\n",
       " ('8/9/2022', '14,860.00000 IDR'),\n",
       " ('8/8/2022', '14,831.25000 IDR'),\n",
       " ('8/5/2022', '14,946.00000 IDR'),\n",
       " ('8/4/2022', '14,889.80000 IDR'),\n",
       " ('8/3/2022', '14,886.30000 IDR'),\n",
       " ('8/2/2022', '14,895.10000 IDR'),\n",
       " ('8/1/2022', '14,840.98333 IDR'),\n",
       " ('7/29/2022', '14,815.40000 IDR'),\n",
       " ('7/28/2022', '14,849.65000 IDR'),\n",
       " ('7/27/2022', '14,920.70000 IDR'),\n",
       " ('7/26/2022', '14,990.25000 IDR'),\n",
       " ('7/25/2022', '14,969.70000 IDR'),\n",
       " ('7/22/2022', '14,978.00000 IDR'),\n",
       " ('7/21/2022', '15,015.55000 IDR'),\n",
       " ('7/20/2022', '14,976.15000 IDR'),\n",
       " ('7/19/2022', '14,960.85000 IDR'),\n",
       " ('7/18/2022', '14,981.10000 IDR'),\n",
       " ('7/15/2022', '14,996.35000 IDR'),\n",
       " ('7/14/2022', '15,045.60000 IDR'),\n",
       " ('7/13/2022', '15,030.45000 IDR'),\n",
       " ('7/12/2022', '14,984.00000 IDR'),\n",
       " ('7/11/2022', '15,010.52059 IDR'),\n",
       " ('7/8/2022', '14,976.95000 IDR'),\n",
       " ('7/7/2022', '14,964.65000 IDR'),\n",
       " ('7/6/2022', '14,996.82520 IDR'),\n",
       " ('7/5/2022', '15,014.65000 IDR'),\n",
       " ('7/4/2022', '14,994.55000 IDR'),\n",
       " ('7/1/2022', '14,975.15000 IDR'),\n",
       " ('6/30/2022', '14,928.80000 IDR'),\n",
       " ('6/29/2022', '14,868.90000 IDR'),\n",
       " ('6/28/2022', '14,852.35000 IDR'),\n",
       " ('6/27/2022', '14,807.70000 IDR'),\n",
       " ('6/24/2022', '14,829.50000 IDR'),\n",
       " ('6/23/2022', '14,848.80000 IDR')]"
      ]
     },
     "execution_count": 82,
     "metadata": {},
     "output_type": "execute_result"
    }
   ],
   "source": [
    "temp = [] #initiating a tuple\n",
    "\n",
    "for i in range(1, row_length):\n",
    "\n",
    "    #scrapping process\n",
    "    row = table.find_all('tr')[i]\n",
    "    #use the key to take information here\n",
    "    #name_of_object = row.find_all(...)[0].text\n",
    "        \n",
    "    #get tanggal\n",
    "    tanggal = row.find_all('td')[0].text\n",
    "    tanggal = tanggal.strip() #for removing the excess whitespace\n",
    "        \n",
    "    #get harga_harian\n",
    "    harga_harian = row.find_all('td')[2].text\n",
    "    harga_harian = harga_harian.strip() #for removing the excess whitespace\n",
    "        \n",
    "    temp.append((tanggal,harga_harian)) #append the needed information  \n",
    "    \n",
    "temp "
   ]
  },
  {
   "cell_type": "markdown",
   "metadata": {},
   "source": [
    "## Creating data frame & Data wrangling"
   ]
  },
  {
   "cell_type": "markdown",
   "metadata": {},
   "source": [
    "Put the array into dataframe"
   ]
  },
  {
   "cell_type": "code",
   "execution_count": 218,
   "metadata": {
    "ExecuteTime": {
     "end_time": "2020-01-13T05:12:41.517372Z",
     "start_time": "2020-01-13T05:12:29.130015Z"
    }
   },
   "outputs": [
    {
     "data": {
      "text/html": [
       "<div>\n",
       "<style scoped>\n",
       "    .dataframe tbody tr th:only-of-type {\n",
       "        vertical-align: middle;\n",
       "    }\n",
       "\n",
       "    .dataframe tbody tr th {\n",
       "        vertical-align: top;\n",
       "    }\n",
       "\n",
       "    .dataframe thead th {\n",
       "        text-align: right;\n",
       "    }\n",
       "</style>\n",
       "<table border=\"1\" class=\"dataframe\">\n",
       "  <thead>\n",
       "    <tr style=\"text-align: right;\">\n",
       "      <th></th>\n",
       "      <th>Tanggal</th>\n",
       "      <th>Harga_Harian</th>\n",
       "    </tr>\n",
       "  </thead>\n",
       "  <tbody>\n",
       "    <tr>\n",
       "      <th>0</th>\n",
       "      <td>12/19/2022</td>\n",
       "      <td>15,567.55000 IDR</td>\n",
       "    </tr>\n",
       "    <tr>\n",
       "      <th>1</th>\n",
       "      <td>12/16/2022</td>\n",
       "      <td>15,616.05000 IDR</td>\n",
       "    </tr>\n",
       "    <tr>\n",
       "      <th>2</th>\n",
       "      <td>12/15/2022</td>\n",
       "      <td>15,629.40000 IDR</td>\n",
       "    </tr>\n",
       "    <tr>\n",
       "      <th>3</th>\n",
       "      <td>12/14/2022</td>\n",
       "      <td>15,543.30000 IDR</td>\n",
       "    </tr>\n",
       "    <tr>\n",
       "      <th>4</th>\n",
       "      <td>12/13/2022</td>\n",
       "      <td>15,560.20000 IDR</td>\n",
       "    </tr>\n",
       "  </tbody>\n",
       "</table>\n",
       "</div>"
      ],
      "text/plain": [
       "      Tanggal      Harga_Harian\n",
       "0  12/19/2022  15,567.55000 IDR\n",
       "1  12/16/2022  15,616.05000 IDR\n",
       "2  12/15/2022  15,629.40000 IDR\n",
       "3  12/14/2022  15,543.30000 IDR\n",
       "4  12/13/2022  15,560.20000 IDR"
      ]
     },
     "execution_count": 218,
     "metadata": {},
     "output_type": "execute_result"
    }
   ],
   "source": [
    "import pandas as pd\n",
    "\n",
    "df = pd.DataFrame(temp, columns = ('Tanggal', 'Harga_Harian'))\n",
    "df.head()"
   ]
  },
  {
   "cell_type": "markdown",
   "metadata": {},
   "source": [
    "Do the data cleaning here (please change this markdown with your explanation of what you do for data wrangling)"
   ]
  },
  {
   "cell_type": "code",
   "execution_count": 219,
   "metadata": {},
   "outputs": [
    {
     "data": {
      "text/plain": [
       "Tanggal         object\n",
       "Harga_Harian    object\n",
       "dtype: object"
      ]
     },
     "execution_count": 219,
     "metadata": {},
     "output_type": "execute_result"
    }
   ],
   "source": [
    "# cek tipe data\n",
    "df.dtypes"
   ]
  },
  {
   "cell_type": "code",
   "execution_count": 220,
   "metadata": {
    "ExecuteTime": {
     "end_time": "2020-01-13T05:12:59.165559Z",
     "start_time": "2020-01-13T05:12:58.910012Z"
    }
   },
   "outputs": [],
   "source": [
    "# hapus ',' , '.', dan 'IDR'\n",
    "\n",
    "df['Harga_Harian'] = df['Harga_Harian'].apply(lambda x: x.replace('IDR', ''))\n",
    "df['Harga_Harian'] = df['Harga_Harian'].apply(lambda x: x.replace(',', ''))\n",
    "df['Harga_Harian'] = df['Harga_Harian'].apply(lambda x: x.replace('.', ''))"
   ]
  },
  {
   "cell_type": "code",
   "execution_count": 221,
   "metadata": {},
   "outputs": [],
   "source": [
    "# ubah tipe data\n",
    "df['Harga_Harian'] = df['Harga_Harian'].astype('int64')\n",
    "df['Tanggal'] = pd.to_datetime(df['Tanggal'])"
   ]
  },
  {
   "cell_type": "code",
   "execution_count": 222,
   "metadata": {
    "scrolled": true
   },
   "outputs": [
    {
     "data": {
      "text/plain": [
       "0    1556755000\n",
       "1    1561605000\n",
       "2    1562940000\n",
       "3    1554330000\n",
       "4    1556020000\n",
       "Name: Harga_Harian, dtype: int64"
      ]
     },
     "execution_count": 222,
     "metadata": {},
     "output_type": "execute_result"
    }
   ],
   "source": [
    "# cek kolom Harga_Harian\n",
    "df['Harga_Harian'].head()"
   ]
  },
  {
   "cell_type": "code",
   "execution_count": 223,
   "metadata": {
    "scrolled": false
   },
   "outputs": [
    {
     "data": {
      "text/plain": [
       "0      15567.55\n",
       "1      15616.05\n",
       "2      15629.40\n",
       "3      15543.30\n",
       "4      15560.20\n",
       "         ...   \n",
       "123    14868.90\n",
       "124    14852.35\n",
       "125    14807.70\n",
       "126    14829.50\n",
       "127    14848.80\n",
       "Name: Harga_Harian, Length: 128, dtype: float64"
      ]
     },
     "execution_count": 223,
     "metadata": {},
     "output_type": "execute_result"
    }
   ],
   "source": [
    "# buat dua angka dibelakang koma\n",
    "df['Harga_Harian'] = round((df['Harga_Harian'] * 0.00001), 2)\n",
    "df['Harga_Harian']"
   ]
  },
  {
   "cell_type": "code",
   "execution_count": 225,
   "metadata": {},
   "outputs": [
    {
     "data": {
      "text/plain": [
       "Tanggal         datetime64[ns]\n",
       "Harga_Harian           float64\n",
       "dtype: object"
      ]
     },
     "execution_count": 225,
     "metadata": {},
     "output_type": "execute_result"
    }
   ],
   "source": [
    "# cek tipe data\n",
    "df.dtypes"
   ]
  },
  {
   "cell_type": "markdown",
   "metadata": {},
   "source": [
    "Data visualisation (please change this markdown with your explanation of what you do for data wrangling)"
   ]
  },
  {
   "cell_type": "code",
   "execution_count": 224,
   "metadata": {
    "scrolled": false
   },
   "outputs": [
    {
     "data": {
      "text/plain": [
       "Tanggal         datetime64[ns]\n",
       "Harga_Harian           float64\n",
       "dtype: object"
      ]
     },
     "execution_count": 224,
     "metadata": {},
     "output_type": "execute_result"
    }
   ],
   "source": [
    "df.dtypes"
   ]
  },
  {
   "cell_type": "code",
   "execution_count": 226,
   "metadata": {
    "scrolled": true
   },
   "outputs": [
    {
     "data": {
      "text/html": [
       "<div>\n",
       "<style scoped>\n",
       "    .dataframe tbody tr th:only-of-type {\n",
       "        vertical-align: middle;\n",
       "    }\n",
       "\n",
       "    .dataframe tbody tr th {\n",
       "        vertical-align: top;\n",
       "    }\n",
       "\n",
       "    .dataframe thead th {\n",
       "        text-align: right;\n",
       "    }\n",
       "</style>\n",
       "<table border=\"1\" class=\"dataframe\">\n",
       "  <thead>\n",
       "    <tr style=\"text-align: right;\">\n",
       "      <th></th>\n",
       "      <th>Tanggal</th>\n",
       "      <th>Harga_Harian</th>\n",
       "    </tr>\n",
       "  </thead>\n",
       "  <tbody>\n",
       "    <tr>\n",
       "      <th>0</th>\n",
       "      <td>2022-12-19</td>\n",
       "      <td>15567.55</td>\n",
       "    </tr>\n",
       "    <tr>\n",
       "      <th>1</th>\n",
       "      <td>2022-12-16</td>\n",
       "      <td>15616.05</td>\n",
       "    </tr>\n",
       "    <tr>\n",
       "      <th>2</th>\n",
       "      <td>2022-12-15</td>\n",
       "      <td>15629.40</td>\n",
       "    </tr>\n",
       "    <tr>\n",
       "      <th>3</th>\n",
       "      <td>2022-12-14</td>\n",
       "      <td>15543.30</td>\n",
       "    </tr>\n",
       "    <tr>\n",
       "      <th>4</th>\n",
       "      <td>2022-12-13</td>\n",
       "      <td>15560.20</td>\n",
       "    </tr>\n",
       "  </tbody>\n",
       "</table>\n",
       "</div>"
      ],
      "text/plain": [
       "     Tanggal  Harga_Harian\n",
       "0 2022-12-19      15567.55\n",
       "1 2022-12-16      15616.05\n",
       "2 2022-12-15      15629.40\n",
       "3 2022-12-14      15543.30\n",
       "4 2022-12-13      15560.20"
      ]
     },
     "execution_count": 226,
     "metadata": {},
     "output_type": "execute_result"
    }
   ],
   "source": [
    "df.head()"
   ]
  },
  {
   "cell_type": "code",
   "execution_count": 229,
   "metadata": {
    "scrolled": true
   },
   "outputs": [
    {
     "data": {
      "text/html": [
       "<div>\n",
       "<style scoped>\n",
       "    .dataframe tbody tr th:only-of-type {\n",
       "        vertical-align: middle;\n",
       "    }\n",
       "\n",
       "    .dataframe tbody tr th {\n",
       "        vertical-align: top;\n",
       "    }\n",
       "\n",
       "    .dataframe thead th {\n",
       "        text-align: right;\n",
       "    }\n",
       "</style>\n",
       "<table border=\"1\" class=\"dataframe\">\n",
       "  <thead>\n",
       "    <tr style=\"text-align: right;\">\n",
       "      <th></th>\n",
       "      <th>Tanggal</th>\n",
       "      <th>Harga_Harian</th>\n",
       "      <th>Period</th>\n",
       "    </tr>\n",
       "  </thead>\n",
       "  <tbody>\n",
       "    <tr>\n",
       "      <th>0</th>\n",
       "      <td>2022-12-19</td>\n",
       "      <td>15567.55</td>\n",
       "      <td>2022-12</td>\n",
       "    </tr>\n",
       "    <tr>\n",
       "      <th>1</th>\n",
       "      <td>2022-12-16</td>\n",
       "      <td>15616.05</td>\n",
       "      <td>2022-12</td>\n",
       "    </tr>\n",
       "    <tr>\n",
       "      <th>2</th>\n",
       "      <td>2022-12-15</td>\n",
       "      <td>15629.40</td>\n",
       "      <td>2022-12</td>\n",
       "    </tr>\n",
       "    <tr>\n",
       "      <th>3</th>\n",
       "      <td>2022-12-14</td>\n",
       "      <td>15543.30</td>\n",
       "      <td>2022-12</td>\n",
       "    </tr>\n",
       "    <tr>\n",
       "      <th>4</th>\n",
       "      <td>2022-12-13</td>\n",
       "      <td>15560.20</td>\n",
       "      <td>2022-12</td>\n",
       "    </tr>\n",
       "  </tbody>\n",
       "</table>\n",
       "</div>"
      ],
      "text/plain": [
       "     Tanggal  Harga_Harian   Period\n",
       "0 2022-12-19      15567.55  2022-12\n",
       "1 2022-12-16      15616.05  2022-12\n",
       "2 2022-12-15      15629.40  2022-12\n",
       "3 2022-12-14      15543.30  2022-12\n",
       "4 2022-12-13      15560.20  2022-12"
      ]
     },
     "execution_count": 229,
     "metadata": {},
     "output_type": "execute_result"
    }
   ],
   "source": [
    "df['Period'] = df['Tanggal'].dt.to_period('M')\n",
    "df.head()"
   ]
  },
  {
   "cell_type": "code",
   "execution_count": 234,
   "metadata": {
    "scrolled": true
   },
   "outputs": [
    {
     "data": {
      "text/html": [
       "<div>\n",
       "<style scoped>\n",
       "    .dataframe tbody tr th:only-of-type {\n",
       "        vertical-align: middle;\n",
       "    }\n",
       "\n",
       "    .dataframe tbody tr th {\n",
       "        vertical-align: top;\n",
       "    }\n",
       "\n",
       "    .dataframe thead th {\n",
       "        text-align: right;\n",
       "    }\n",
       "</style>\n",
       "<table border=\"1\" class=\"dataframe\">\n",
       "  <thead>\n",
       "    <tr style=\"text-align: right;\">\n",
       "      <th></th>\n",
       "      <th>Harga_Harian</th>\n",
       "    </tr>\n",
       "    <tr>\n",
       "      <th>Period</th>\n",
       "      <th></th>\n",
       "    </tr>\n",
       "  </thead>\n",
       "  <tbody>\n",
       "    <tr>\n",
       "      <th>2022-06</th>\n",
       "      <td>14856.01</td>\n",
       "    </tr>\n",
       "    <tr>\n",
       "      <th>2022-07</th>\n",
       "      <td>14973.67</td>\n",
       "    </tr>\n",
       "    <tr>\n",
       "      <th>2022-08</th>\n",
       "      <td>14831.29</td>\n",
       "    </tr>\n",
       "    <tr>\n",
       "      <th>2022-09</th>\n",
       "      <td>15005.16</td>\n",
       "    </tr>\n",
       "    <tr>\n",
       "      <th>2022-10</th>\n",
       "      <td>15427.79</td>\n",
       "    </tr>\n",
       "    <tr>\n",
       "      <th>2022-11</th>\n",
       "      <td>15652.50</td>\n",
       "    </tr>\n",
       "    <tr>\n",
       "      <th>2022-12</th>\n",
       "      <td>15562.52</td>\n",
       "    </tr>\n",
       "  </tbody>\n",
       "</table>\n",
       "</div>"
      ],
      "text/plain": [
       "         Harga_Harian\n",
       "Period               \n",
       "2022-06      14856.01\n",
       "2022-07      14973.67\n",
       "2022-08      14831.29\n",
       "2022-09      15005.16\n",
       "2022-10      15427.79\n",
       "2022-11      15652.50\n",
       "2022-12      15562.52"
      ]
     },
     "execution_count": 234,
     "metadata": {},
     "output_type": "execute_result"
    }
   ],
   "source": [
    "df[['Period','Harga_Harian']].groupby(by=['Period']).mean().round(2)"
   ]
  },
  {
   "cell_type": "code",
   "execution_count": 240,
   "metadata": {},
   "outputs": [
    {
     "data": {
      "text/plain": [
       "<AxesSubplot:xlabel='Period'>"
      ]
     },
     "execution_count": 240,
     "metadata": {},
     "output_type": "execute_result"
    },
    {
     "data": {
      "image/png": "[encoded data removed]",
      "text/plain": [
       "<Figure size 640x480 with 1 Axes>"
      ]
     },
     "metadata": {},
     "output_type": "display_data"
    }
   ],
   "source": [
    "import matplotlib.pyplot as plt\n",
    "df[['Period','Harga_Harian']].groupby(by=['Period']).mean().round(2).plot()"
   ]
  },
  {
   "cell_type": "markdown",
   "metadata": {},
   "source": [
    "### Implementing your webscrapping to the flask dashboard\n",
    "\n",
    "- Copy paste all of your web scrapping process to the desired position on the `app.py`\n",
    "- Changing the title of the dasboard at `index.html`"
   ]
  },
  {
   "cell_type": "markdown",
   "metadata": {},
   "source": [
    "## Finishing This Notebook with Your Analysis and Conclusion\n",
    "\n",
    "First you can do start with making the data visualisation. "
   ]
  },
  {
   "cell_type": "markdown",
   "metadata": {
    "ExecuteTime": {
     "end_time": "2020-01-13T05:20:56.208237Z",
     "start_time": "2020-01-13T05:20:56.076043Z"
    }
   },
   "source": [
    "**Kesimpulan:**\n",
    "1. Pada bulan Agustus 2022 harga USD terjadi penurunan dari periode sebelumnya\n",
    "2. Pada bulan Agustus 2022 harga USD merupakan harga terendah dibandingkan semua periode di tahun 2022\n",
    "3. Harga USD tertinggi terjadi pada bulan November 2022 dibandingkan semua periode di tahun 2022\n",
    "4. Secara keseluruhan harga USD memiliki trend yang naik dari periode Juli 2022 s/d Desember 2022"
   ]
  },
  {
   "cell_type": "markdown",
   "metadata": {},
   "source": [
    "\n",
    "(Put your analysis and conclusion here.)"
   ]
  },
  {
   "cell_type": "markdown",
   "metadata": {},
   "source": [
    "### Extra Challange\n",
    "\n",
    "This will be not included to the scoring. \n",
    "\n",
    "- You can create additional analysis from the data.\n",
    "- Implement it to the dashboard with at `app.py` dan `index.html`."
   ]
  }
 ],
 "metadata": {
  "kernelspec": {
   "display_name": "web_scrap",
   "language": "python",
   "name": "web_scrap"
  },
  "language_info": {
   "codemirror_mode": {
    "name": "ipython",
    "version": 3
   },
   "file_extension": ".py",
   "mimetype": "text/x-python",
   "name": "python",
   "nbconvert_exporter": "python",
   "pygments_lexer": "ipython3",
   "version": "3.7.15"
  },
  "toc": {
   "base_numbering": 1,
   "nav_menu": {},
   "number_sections": true,
   "sideBar": true,
   "skip_h1_title": false,
   "title_cell": "Table of Contents",
   "title_sidebar": "Contents",
   "toc_cell": false,
   "toc_position": {},
   "toc_section_display": true,
   "toc_window_display": false
  }
 },
 "nbformat": 4,
 "nbformat_minor": 2
}
